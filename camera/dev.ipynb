{
 "cells": [
  {
   "cell_type": "code",
   "execution_count": 50,
   "metadata": {},
   "outputs": [],
   "source": [
    "import base64, requests\n",
    "\n",
    "def postImageHuawei(imageName, userId):\n",
    "    with open(f\"images/image_{imageName}.jpg\", \"rb\") as imageFile:\n",
    "        imageData = base64.b64encode(imageFile.read())\n",
    "\n",
    "    data = {\n",
    "        \"userId\": userId,\n",
    "        \"image\": imageData.decode()\n",
    "    }\n",
    "\n",
    "    response = requests.post(\"http://119.13.104.214:80/uploadFoodImage\", json=data)\n",
    "\n",
    "    return response"
   ]
  },
  {
   "cell_type": "code",
   "execution_count": 54,
   "metadata": {},
   "outputs": [
    {
     "data": {
      "text/plain": [
       "<Response [200]>"
      ]
     },
     "execution_count": 54,
     "metadata": {},
     "output_type": "execute_result"
    }
   ],
   "source": [
    "postImageHuawei(37, 'darentan')"
   ]
  },
  {
   "cell_type": "code",
   "execution_count": 42,
   "metadata": {},
   "outputs": [],
   "source": [
    "rekognitionResponse = postData(\"wantonmeefeature\")"
   ]
  },
  {
   "cell_type": "code",
   "execution_count": 47,
   "metadata": {},
   "outputs": [],
   "source": [
    "import json\n",
    "data = json.loads(rekognitionResponse.text)\n"
   ]
  }
 ],
 "metadata": {
  "interpreter": {
   "hash": "1dd617a5988bcaa54672a91eb3971f0ca666e7ecabec86dd1533bd53f184404c"
  },
  "kernelspec": {
   "display_name": "Python 3.9.1 64-bit",
   "language": "python",
   "name": "python3"
  },
  "language_info": {
   "codemirror_mode": {
    "name": "ipython",
    "version": 3
   },
   "file_extension": ".py",
   "mimetype": "text/x-python",
   "name": "python",
   "nbconvert_exporter": "python",
   "pygments_lexer": "ipython3",
   "version": "3.9.1"
  },
  "orig_nbformat": 4
 },
 "nbformat": 4,
 "nbformat_minor": 2
}
