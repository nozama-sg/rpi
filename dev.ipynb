{
 "cells": [
  {
   "cell_type": "code",
   "execution_count": 40,
   "metadata": {},
   "outputs": [],
   "source": [
    "import base64, requests\n",
    "\n",
    "def encodeImage(imageName):\n",
    "    with open(f\"images/{imageName}.jpg\", \"rb\") as imageFile:\n",
    "        imageData = base64.b64encode(imageFile.read())\n",
    "\n",
    "    data = {\n",
    "        \"b64\": imageData.decode()\n",
    "    }\n",
    "\n",
    "    return data\n",
    "\n",
    "def postData(imageName):\n",
    "    data = encodeImage(imageName)\n",
    "\n",
    "    response = requests.post(\"http://localhost:4000/api/Upload\", json=data)\n",
    "\n",
    "    # print(response)\n",
    "    \n",
    "    # repsonse=''\n",
    "\n",
    "    # # read response in json\n",
    "    # response = json.loads(response.text)\n",
    "\n",
    "    return response"
   ]
  },
  {
   "cell_type": "code",
   "execution_count": 42,
   "metadata": {},
   "outputs": [],
   "source": [
    "rekognitionResponse = postData(\"wantonmeefeature\")"
   ]
  },
  {
   "cell_type": "code",
   "execution_count": 47,
   "metadata": {},
   "outputs": [],
   "source": [
    "import json\n",
    "data = json.loads(rekognitionResponse.text)\n"
   ]
  },
  {
   "cell_type": "code",
   "execution_count": 49,
   "metadata": {},
   "outputs": [
    {
     "name": "stdout",
     "output_type": "stream",
     "text": [
      "{'Name': 'Dish', 'Confidence': 98.85765838623047, 'Instances': [], 'Parents': [{'Name': 'Meal'}, {'Name': 'Food'}]}\n",
      "{'Name': 'Meal', 'Confidence': 98.85765838623047, 'Instances': [], 'Parents': [{'Name': 'Food'}]}\n",
      "{'Name': 'Food', 'Confidence': 98.85765838623047, 'Instances': [], 'Parents': []}\n",
      "{'Name': 'Bowl', 'Confidence': 98.57699584960938, 'Instances': [], 'Parents': []}\n",
      "{'Name': 'Noodle', 'Confidence': 97.67121124267578, 'Instances': [], 'Parents': [{'Name': 'Food'}]}\n"
     ]
    }
   ],
   "source": [
    "for i in data:\n",
    "    if i['Confidence'] > 97:\n",
    "        \n",
    "    print(i)"
   ]
  }
 ],
 "metadata": {
  "interpreter": {
   "hash": "1dd617a5988bcaa54672a91eb3971f0ca666e7ecabec86dd1533bd53f184404c"
  },
  "kernelspec": {
   "display_name": "Python 3.9.1 64-bit",
   "language": "python",
   "name": "python3"
  },
  "language_info": {
   "codemirror_mode": {
    "name": "ipython",
    "version": 3
   },
   "file_extension": ".py",
   "mimetype": "text/x-python",
   "name": "python",
   "nbconvert_exporter": "python",
   "pygments_lexer": "ipython3",
   "version": "3.9.1"
  },
  "orig_nbformat": 4
 },
 "nbformat": 4,
 "nbformat_minor": 2
}
